{
 "cells": [
  {
   "cell_type": "code",
   "execution_count": 1,
   "id": "78a55e59-e8c5-4973-9a94-83d104485869",
   "metadata": {},
   "outputs": [],
   "source": [
    "# uses SPARK_HOME config, initialize pyspark environment\n",
    "import findspark\n",
    "findspark.init()\n",
    "# Shift + Enter"
   ]
  },
  {
   "cell_type": "code",
   "execution_count": 2,
   "id": "7cbecadb-6758-45fd-afae-3e0f81626e87",
   "metadata": {},
   "outputs": [
    {
     "name": "stderr",
     "output_type": "stream",
     "text": [
      "22/05/04 22:35:35 WARN Utils: Your hostname, ubuntu-virtual-machine resolves to a loopback address: 127.0.1.1; using 192.168.174.129 instead (on interface ens33)\n",
      "22/05/04 22:35:35 WARN Utils: Set SPARK_LOCAL_IP if you need to bind to another address\n",
      "22/05/04 22:35:38 WARN NativeCodeLoader: Unable to load native-hadoop library for your platform... using builtin-java classes where applicable\n",
      "Using Spark's default log4j profile: org/apache/spark/log4j-defaults.properties\n",
      "Setting default log level to \"WARN\".\n",
      "To adjust logging level use sc.setLogLevel(newLevel). For SparkR, use setLogLevel(newLevel).\n"
     ]
    }
   ],
   "source": [
    "from pyspark import SparkContext\n",
    "# spark runs in embedded mode\n",
    "# \"HelloWorld\" is spark application name\n",
    "# local is spark master mode, local means spark is running in embedded\n",
    "# spark driver and executor running on same process\n",
    "# no cluster, no worker in this setup\n",
    "# only for dev purpose\n",
    "sc = SparkContext(\"local\", \"HelloWorld\")"
   ]
  },
  {
   "cell_type": "code",
   "execution_count": 3,
   "id": "194b21ee-8ede-4ef4-ad7a-9a06984b714e",
   "metadata": {},
   "outputs": [
    {
     "name": "stderr",
     "output_type": "stream",
     "text": [
      "                                                                                \r"
     ]
    },
    {
     "data": {
      "text/plain": [
       "[1, 3, 5, 7, 9]"
      ]
     },
     "execution_count": 3,
     "metadata": {},
     "output_type": "execute_result"
    }
   ],
   "source": [
    "rdd = sc.parallelize([1,2,3,4,5,6,7,8,9])\n",
    "odds = rdd.filter (lambda n : n % 2 == 1)\n",
    "odds.collect()"
   ]
  },
  {
   "cell_type": "code",
   "execution_count": null,
   "id": "930cb97f-5a76-4f50-9d51-d4eb4c9579e6",
   "metadata": {},
   "outputs": [],
   "source": []
  }
 ],
 "metadata": {
  "kernelspec": {
   "display_name": "Python 3 (ipykernel)",
   "language": "python",
   "name": "python3"
  },
  "language_info": {
   "codemirror_mode": {
    "name": "ipython",
    "version": 3
   },
   "file_extension": ".py",
   "mimetype": "text/x-python",
   "name": "python",
   "nbconvert_exporter": "python",
   "pygments_lexer": "ipython3",
   "version": "3.8.12"
  }
 },
 "nbformat": 4,
 "nbformat_minor": 5
}
