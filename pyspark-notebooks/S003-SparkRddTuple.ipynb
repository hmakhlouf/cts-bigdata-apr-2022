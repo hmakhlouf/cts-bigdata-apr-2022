{
 "cells": [
  {
   "cell_type": "code",
   "execution_count": 1,
   "id": "db151ed4-bfae-4575-a73f-cde21a5b55b7",
   "metadata": {},
   "outputs": [],
   "source": [
    "import findspark\n",
    "findspark.init()"
   ]
  },
  {
   "cell_type": "code",
   "execution_count": 2,
   "id": "17c7d421-abac-4875-91c8-5c02875dbf5a",
   "metadata": {},
   "outputs": [
    {
     "name": "stderr",
     "output_type": "stream",
     "text": [
      "22/05/05 00:33:14 WARN Utils: Your hostname, ubuntu-virtual-machine resolves to a loopback address: 127.0.1.1; using 192.168.174.129 instead (on interface ens33)\n",
      "22/05/05 00:33:14 WARN Utils: Set SPARK_LOCAL_IP if you need to bind to another address\n",
      "22/05/05 00:33:17 WARN NativeCodeLoader: Unable to load native-hadoop library for your platform... using builtin-java classes where applicable\n",
      "Using Spark's default log4j profile: org/apache/spark/log4j-defaults.properties\n",
      "Setting default log level to \"WARN\".\n",
      "To adjust logging level use sc.setLogLevel(newLevel). For SparkR, use setLogLevel(newLevel).\n",
      "22/05/05 00:33:25 WARN Utils: Service 'SparkUI' could not bind on port 4040. Attempting port 4041.\n",
      "22/05/05 00:33:25 WARN Utils: Service 'SparkUI' could not bind on port 4041. Attempting port 4042.\n"
     ]
    }
   ],
   "source": [
    "from pyspark import SparkContext\n",
    "sc = SparkContext(\"local\", \"SparkRddTuple\")"
   ]
  },
  {
   "cell_type": "code",
   "execution_count": 3,
   "id": "0f1c4f9b-d52a-416e-aa3f-84f138e75747",
   "metadata": {},
   "outputs": [],
   "source": [
    "stocks = [ # LIST\n",
    "    # Tuple (symbol, open, low, high, close)\n",
    "    ('MSFT', 50, 48, 51, 50.5),\n",
    "     ('FB', 200, 198, 204, 202.3),\n",
    "    ('AMD', 90, 88, 92, 91),\n",
    "    ('TSLA', 100, 90, 90, 100)\n",
    "]\n",
    "rdd = sc.parallelize(stocks)"
   ]
  },
  {
   "cell_type": "code",
   "execution_count": 4,
   "id": "645c48e8-9ac5-478e-b325-c143dbad28ea",
   "metadata": {},
   "outputs": [
    {
     "name": "stderr",
     "output_type": "stream",
     "text": [
      "                                                                                \r"
     ]
    },
    {
     "data": {
      "text/plain": [
       "[('MSFT', 50, 48, 51, 50.5),\n",
       " ('AMD', 90, 88, 92, 91),\n",
       " ('TSLA', 100, 90, 90, 100)]"
      ]
     },
     "execution_count": 4,
     "metadata": {},
     "output_type": "execute_result"
    }
   ],
   "source": [
    "# Pick stocks where close price is less than or equal to 100 , \n",
    "#stock[4] is close price\n",
    "# stock is tuple\n",
    "rdd2 = rdd.filter (lambda stock: stock[4] <= 100)\n",
    "rdd2.collect()"
   ]
  },
  {
   "cell_type": "code",
   "execution_count": 5,
   "id": "330e9ffa-70cb-46e1-9a05-e2feb5a20586",
   "metadata": {},
   "outputs": [
    {
     "data": {
      "text/plain": [
       "[0.5, 2.3000000000000114, 1, 0]"
      ]
     },
     "execution_count": 5,
     "metadata": {},
     "output_type": "execute_result"
    }
   ],
   "source": [
    "# find gain for the data\n",
    "# take close price - open price\n",
    "rdd3 = rdd.map (lambda stock: stock[4] - stock[1])\n",
    "rdd3.collect()"
   ]
  },
  {
   "cell_type": "code",
   "execution_count": 6,
   "id": "4b6419a0-e3a0-4b74-850d-b4f58b11bce1",
   "metadata": {},
   "outputs": [
    {
     "data": {
      "text/plain": [
       "[('MSFT', 50, 48, 51, 50.5, 0.5),\n",
       " ('FB', 200, 198, 204, 202.3, 2.3000000000000114),\n",
       " ('AMD', 90, 88, 92, 91, 1),\n",
       " ('TSLA', 100, 90, 90, 100, 0)]"
      ]
     },
     "execution_count": 6,
     "metadata": {},
     "output_type": "execute_result"
    }
   ],
   "source": [
    "# find gain for the data, but include all the results, \n",
    "# also include gain as one element\n",
    "# tuple doesn't support mutation\n",
    "# we have to create new tuple and include diff\n",
    "rdd4 = rdd.map (lambda stock: (stock[0], stock[1], stock[2], \n",
    "                               stock[3], stock[4], \n",
    "                               stock[4] - stock[1] # diff\n",
    "                              ))\n",
    "                \n",
    "rdd4.collect()"
   ]
  },
  {
   "cell_type": "code",
   "execution_count": 7,
   "id": "7234a4ca-0392-4a7b-9ce6-0daccc856bd6",
   "metadata": {},
   "outputs": [
    {
     "data": {
      "text/plain": [
       "(1, 2, 3, 'a', 'b', 'c')"
      ]
     },
     "execution_count": 7,
     "metadata": {},
     "output_type": "execute_result"
    }
   ],
   "source": [
    "# add two tuples possible, it will create new tuple\n",
    "(1,2,3) + ('a', 'b', 'c')"
   ]
  },
  {
   "cell_type": "code",
   "execution_count": 8,
   "id": "4986995a-a590-4a2d-8536-b0c53e79ac6b",
   "metadata": {},
   "outputs": [
    {
     "data": {
      "text/plain": [
       "[('MSFT', 50, 48, 51, 50.5, 0.5),\n",
       " ('FB', 200, 198, 204, 202.3, 2.3000000000000114),\n",
       " ('AMD', 90, 88, 92, 91, 1),\n",
       " ('TSLA', 100, 90, 90, 100, 0)]"
      ]
     },
     "execution_count": 8,
     "metadata": {},
     "output_type": "execute_result"
    }
   ],
   "source": [
    "# find gain for the data, but include all the results, \n",
    "# also include gain as one element\n",
    "# tuple doesn't support mutation\n",
    "# we have to create new tuple and include diff\n",
    "# refactor\n",
    "# COMMA , is MUST if we make tuple with 1 element in Python\n",
    "rdd4 = rdd.map (lambda stock: stock + (stock[4] - stock[1],))\n",
    "                \n",
    "rdd4.collect()"
   ]
  },
  {
   "cell_type": "code",
   "execution_count": null,
   "id": "2bf63a07-8cb2-4137-8441-d43dc94a307e",
   "metadata": {},
   "outputs": [],
   "source": []
  }
 ],
 "metadata": {
  "kernelspec": {
   "display_name": "Python 3 (ipykernel)",
   "language": "python",
   "name": "python3"
  },
  "language_info": {
   "codemirror_mode": {
    "name": "ipython",
    "version": 3
   },
   "file_extension": ".py",
   "mimetype": "text/x-python",
   "name": "python",
   "nbconvert_exporter": "python",
   "pygments_lexer": "ipython3",
   "version": "3.8.12"
  }
 },
 "nbformat": 4,
 "nbformat_minor": 5
}
