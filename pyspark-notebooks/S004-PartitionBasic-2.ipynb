{
 "cells": [
  {
   "cell_type": "code",
   "execution_count": 1,
   "id": "c09dda1e-0e53-4a77-869d-afd761f8eb1b",
   "metadata": {},
   "outputs": [],
   "source": [
    "import findspark\n",
    "findspark.init()"
   ]
  },
  {
   "cell_type": "code",
   "execution_count": 2,
   "id": "dd6154aa-75ca-43b6-924b-dae03b214a40",
   "metadata": {},
   "outputs": [
    {
     "name": "stderr",
     "output_type": "stream",
     "text": [
      "22/05/05 01:56:36 WARN Utils: Your hostname, ubuntu-virtual-machine resolves to a loopback address: 127.0.1.1; using 192.168.174.129 instead (on interface ens33)\n",
      "22/05/05 01:56:36 WARN Utils: Set SPARK_LOCAL_IP if you need to bind to another address\n",
      "22/05/05 01:56:39 WARN NativeCodeLoader: Unable to load native-hadoop library for your platform... using builtin-java classes where applicable\n",
      "Using Spark's default log4j profile: org/apache/spark/log4j-defaults.properties\n",
      "Setting default log level to \"WARN\".\n",
      "To adjust logging level use sc.setLogLevel(newLevel). For SparkR, use setLogLevel(newLevel).\n",
      "22/05/05 01:56:49 WARN Utils: Service 'SparkUI' could not bind on port 4040. Attempting port 4041.\n",
      "22/05/05 01:56:49 WARN Utils: Service 'SparkUI' could not bind on port 4041. Attempting port 4042.\n",
      "22/05/05 01:56:49 WARN Utils: Service 'SparkUI' could not bind on port 4042. Attempting port 4043.\n",
      "22/05/05 01:56:49 WARN Utils: Service 'SparkUI' could not bind on port 4043. Attempting port 4044.\n"
     ]
    }
   ],
   "source": [
    "from pyspark import SparkContext\n",
    "# local is a mode, embed spark driver and executor in single JVM\n",
    "# local - 1 parallelism by default, 1 parallel task at a time\n",
    "# local[4] - 4 parallel task at a time\n",
    "# local[*] = * based on number of CPUs in the VM\n",
    "sc = SparkContext(\"local[4]\", \"PartitionBasic2\")"
   ]
  },
  {
   "cell_type": "code",
   "execution_count": 4,
   "id": "ef6a40d9-ebad-4abd-911c-2a3b57db7d58",
   "metadata": {},
   "outputs": [],
   "source": [
    "data = range(1, 10)\n",
    "\n",
    "rdd = sc.parallelize(data)"
   ]
  },
  {
   "cell_type": "code",
   "execution_count": 5,
   "id": "aa8901d9-d0e4-4b6c-9519-75e4deee2b86",
   "metadata": {},
   "outputs": [
    {
     "data": {
      "text/plain": [
       "4"
      ]
     },
     "execution_count": 5,
     "metadata": {},
     "output_type": "execute_result"
    }
   ],
   "source": [
    "# to get number of partitions planned for rdd \n",
    "# we used \"local\" for master, mean single or 1 parallel tasks by default\n",
    "rdd.getNumPartitions()"
   ]
  },
  {
   "cell_type": "code",
   "execution_count": 6,
   "id": "8a2855fb-9296-460a-9a53-7fae1323b114",
   "metadata": {},
   "outputs": [
    {
     "name": "stdout",
     "output_type": "stream",
     "text": [
      "default Parallelism 4\n",
      "default min partitions 2\n"
     ]
    }
   ],
   "source": [
    "# used by parallise function to create numer of partitions\n",
    "print (\"default Parallelism\", sc.defaultParallelism)\n",
    "\n",
    "# used by hadooop to create partitions for read file\n",
    "print (\"default min partitions\", sc.defaultMinPartitions)"
   ]
  },
  {
   "cell_type": "code",
   "execution_count": 9,
   "id": "b8ae0000-abb3-40b0-91cd-44a7e9f3dede",
   "metadata": {},
   "outputs": [
    {
     "data": {
      "text/plain": [
       "[1, 2, 3, 4, 5, 6, 7, 8, 9]"
      ]
     },
     "execution_count": 9,
     "metadata": {},
     "output_type": "execute_result"
    }
   ],
   "source": [
    "# collect method, it collects data from all partitions, and merge into single list\n",
    "rdd.collect()"
   ]
  },
  {
   "cell_type": "code",
   "execution_count": 8,
   "id": "2828a403-088f-414c-992b-28b36d461d4d",
   "metadata": {},
   "outputs": [
    {
     "data": {
      "text/plain": [
       "[[1, 2], [3, 4], [5, 6], [7, 8, 9]]"
      ]
     },
     "execution_count": 8,
     "metadata": {},
     "output_type": "execute_result"
    }
   ],
   "source": [
    "# glom() is also action function\n",
    "# collect data from each partitions, doesn't merge data into single\n",
    "rdd.glom().collect()"
   ]
  },
  {
   "cell_type": "code",
   "execution_count": 10,
   "id": "a78c6e04-e404-46d4-9609-75ab27477efc",
   "metadata": {},
   "outputs": [
    {
     "name": "stdout",
     "output_type": "stream",
     "text": [
      "[1, 2, 3, 4, 5, 6, 7, 8, 9]\n"
     ]
    }
   ],
   "source": [
    "# to collect data from all partitions\n",
    "# return a list of all elements\n",
    "result = rdd.collect()\n",
    "print(result)"
   ]
  },
  {
   "cell_type": "code",
   "execution_count": 11,
   "id": "6cbee027-6bed-4011-bc9f-89f0e2f55429",
   "metadata": {},
   "outputs": [
    {
     "name": "stdout",
     "output_type": "stream",
     "text": [
      "[1, 2, 3, 4, 5]\n"
     ]
    }
   ],
   "source": [
    "# to collect data from first partitions based on limit number of items\n",
    "# try to read from first partition if it has 3 elements, otherwise\n",
    "# remaining items it will\n",
    "# fetch from other partitions, first, second, third partitions\n",
    "# take is action method\n",
    "result = rdd.take(5) \n",
    "print(result)"
   ]
  },
  {
   "cell_type": "code",
   "execution_count": 12,
   "id": "0d920460-c726-42f6-83be-1665e0361a7f",
   "metadata": {},
   "outputs": [],
   "source": [
    "# use parallelize function to create explicit partitions \n",
    "\n",
    "rdd2 = sc.parallelize(range(1, 50), 10) # 10 partitions"
   ]
  },
  {
   "cell_type": "code",
   "execution_count": 13,
   "id": "de1e7fdf-e41b-42e3-bb0d-cf44d1236562",
   "metadata": {},
   "outputs": [
    {
     "data": {
      "text/plain": [
       "10"
      ]
     },
     "execution_count": 13,
     "metadata": {},
     "output_type": "execute_result"
    }
   ],
   "source": [
    "rdd2.getNumPartitions()"
   ]
  },
  {
   "cell_type": "code",
   "execution_count": 14,
   "id": "774fefff-cad7-4182-bd9f-b823260ba71f",
   "metadata": {},
   "outputs": [
    {
     "data": {
      "text/plain": [
       "[[1, 2, 3, 4],\n",
       " [5, 6, 7, 8, 9],\n",
       " [10, 11, 12, 13, 14],\n",
       " [15, 16, 17, 18, 19],\n",
       " [20, 21, 22, 23, 24],\n",
       " [25, 26, 27, 28, 29],\n",
       " [30, 31, 32, 33, 34],\n",
       " [35, 36, 37, 38, 39],\n",
       " [40, 41, 42, 43, 44],\n",
       " [45, 46, 47, 48, 49]]"
      ]
     },
     "execution_count": 14,
     "metadata": {},
     "output_type": "execute_result"
    }
   ],
   "source": [
    "rdd2.glom().collect()"
   ]
  },
  {
   "cell_type": "code",
   "execution_count": null,
   "id": "4a7b3a51-de29-4aef-a2a2-609129c81b3d",
   "metadata": {},
   "outputs": [],
   "source": []
  }
 ],
 "metadata": {
  "kernelspec": {
   "display_name": "Python 3 (ipykernel)",
   "language": "python",
   "name": "python3"
  },
  "language_info": {
   "codemirror_mode": {
    "name": "ipython",
    "version": 3
   },
   "file_extension": ".py",
   "mimetype": "text/x-python",
   "name": "python",
   "nbconvert_exporter": "python",
   "pygments_lexer": "ipython3",
   "version": "3.8.12"
  }
 },
 "nbformat": 4,
 "nbformat_minor": 5
}
