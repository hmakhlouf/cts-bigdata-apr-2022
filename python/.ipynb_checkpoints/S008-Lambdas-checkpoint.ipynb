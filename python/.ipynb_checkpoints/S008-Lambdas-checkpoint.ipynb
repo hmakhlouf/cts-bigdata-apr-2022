{
 "cells": [
  {
   "cell_type": "code",
   "execution_count": 3,
   "id": "923083be-b5f9-4be9-b4c5-dfb78733af89",
   "metadata": {},
   "outputs": [
    {
     "name": "stdout",
     "output_type": "stream",
     "text": [
      "pow func name pow\n",
      "Lambda func name  <lambda>\n",
      "type of func <class 'function'>\n",
      "type of lambda  <class 'function'>\n"
     ]
    }
   ],
   "source": [
    "# Lambda - annonymous function\n",
    "# no name to be given\n",
    "# can be created inline\n",
    "# always oneline\n",
    "# has no name, power is just variable\n",
    "# n is argument tolambda\n",
    "# n * n is return value\n",
    "# before colon: declaration of arguments\n",
    "# after colon, retur nexpression, only one line\n",
    "power = lambda n: n * n # lambda\n",
    "\n",
    "# function, has name\n",
    "def pow(n):\n",
    "    return n * n\n",
    "\n",
    "# internally both def and lambda are functions only\n",
    "print (\"pow func name\", pow.__name__)\n",
    "print (\"Lambda func name \", power.__name__)\n",
    "print (\"type of func\", type(pow))\n",
    "print (\"type of lambda \", type(power))"
   ]
  },
  {
   "cell_type": "code",
   "execution_count": 4,
   "id": "1719ac95-4258-4df6-890e-83440bac5d18",
   "metadata": {},
   "outputs": [
    {
     "name": "stdout",
     "output_type": "stream",
     "text": [
      "100\n",
      "100\n"
     ]
    }
   ],
   "source": [
    "\n",
    "print (power(10)) # calling lambda \n",
    "print (pow(10)) # calling function"
   ]
  },
  {
   "cell_type": "code",
   "execution_count": 5,
   "id": "23468422-fdaa-49a4-bb15-73160f0fbca1",
   "metadata": {},
   "outputs": [],
   "source": [
    "\n",
    "square = lambda n : n ** 2  # n ^ 2\n",
    "\n",
    "cube = lambda n : n ** 3   # n ^ 3\n",
    "\n",
    "import math\n",
    "\n",
    "sqrt = lambda n: math.sqrt(n) # sq root of number"
   ]
  },
  {
   "cell_type": "code",
   "execution_count": 7,
   "id": "01b7e400-0690-4829-96f2-e3632a55aba8",
   "metadata": {},
   "outputs": [
    {
     "name": "stdout",
     "output_type": "stream",
     "text": [
      "14\n"
     ]
    }
   ],
   "source": [
    "# higher order function \n",
    "# functional patern\n",
    "# a function that accept another function as input called higher order function\n",
    "\n",
    "# sum of square/cube/sqrt of the numbers\n",
    "# sum is higher funciton, the first parma is function\n",
    "# then we can pass as many numbers\n",
    "# sum func apply numebrs into func and sum the result\n",
    "# func can eb squre, cube, sqrt, etc...\n",
    "def sum(func, *numbers):\n",
    "    s = 0\n",
    "    for n in numbers:\n",
    "        s += func(n)\n",
    "        \n",
    "    return s\n",
    "\n",
    "# passing square to sum function\n",
    "# sum of square of numbers\n",
    "# result should 1 ^ 2 + 2 ^ 2 + 3 ^ 2 = 14\n",
    "result = sum(square, 1, 2, 3)\n",
    "print (result)\n",
    "# DIY, try cube, sqrt and get result and print"
   ]
  },
  {
   "cell_type": "code",
   "execution_count": 8,
   "id": "0dba1aae-fd43-45f9-94c9-448de7436add",
   "metadata": {},
   "outputs": [
    {
     "name": "stdout",
     "output_type": "stream",
     "text": [
      "14\n"
     ]
    }
   ],
   "source": [
    "# lambda can be line\n",
    "# def can't be inlined\n",
    "result = sum(lambda n: n * n, 1, 2, 3)\n",
    "print (result)"
   ]
  },
  {
   "cell_type": "code",
   "execution_count": null,
   "id": "4ed45a8b-6b3f-4613-9bba-4615d31445bd",
   "metadata": {},
   "outputs": [],
   "source": []
  }
 ],
 "metadata": {
  "kernelspec": {
   "display_name": "Python 3 (ipykernel)",
   "language": "python",
   "name": "python3"
  },
  "language_info": {
   "codemirror_mode": {
    "name": "ipython",
    "version": 3
   },
   "file_extension": ".py",
   "mimetype": "text/x-python",
   "name": "python",
   "nbconvert_exporter": "python",
   "pygments_lexer": "ipython3",
   "version": "3.8.12"
  }
 },
 "nbformat": 4,
 "nbformat_minor": 5
}
