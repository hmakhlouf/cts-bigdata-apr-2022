{
 "cells": [
  {
   "cell_type": "code",
   "execution_count": 15,
   "id": "001a3150-5f1a-4918-8c83-43c823127327",
   "metadata": {},
   "outputs": [],
   "source": [
    "# what is class\n",
    "# prototype to create instances\n",
    "# class will have methods, attributes\n",
    "\n",
    "class Product:\n",
    "    # attributes\n",
    "    price = 100.0\n",
    "    discount = 0\n",
    "    grandTotal = 0\n",
    "    # self always first argument, represent instance of the class\n",
    "    # in C++/java//c# self is known as this\n",
    "    # method\n",
    "    def applyDiscount(self, p):\n",
    "        self.discount = self.price * p / 100.0\n",
    "        self.grandTotal = self.price - self.discount\n",
    "        "
   ]
  },
  {
   "cell_type": "code",
   "execution_count": 2,
   "id": "da5dbaf1-be86-485c-a007-2477e3d2e757",
   "metadata": {},
   "outputs": [
    {
     "name": "stdout",
     "output_type": "stream",
     "text": [
      "before 100.0 0 0\n",
      "after 10% 100.0 10.0 90.0\n",
      "after 50% 100.0 50.0 50.0\n"
     ]
    }
   ],
   "source": [
    "# create insance for product\n",
    "product1 = Product() # similar to C++/Java/C# new Product()\n",
    "\n",
    "print (\"before\", product1.price, product1.discount, product1.grandTotal)\n",
    "# product1 is passed as self, the first arg\n",
    "product1.applyDiscount(10)\n",
    "print (\"after 10%\", product1.price, product1.discount, product1.grandTotal)\n",
    "\n",
    "product1.applyDiscount(50)\n",
    "print (\"after 50%\", product1.price, product1.discount, product1.grandTotal)\n"
   ]
  },
  {
   "cell_type": "code",
   "execution_count": 3,
   "id": "29971de2-b368-4a41-9e63-754946c99826",
   "metadata": {},
   "outputs": [],
   "source": [
    "# initializer, a special method called __init__\n",
    "# similar to constructor in other lang\n",
    "class Product:\n",
    "    # attributes\n",
    "    price = 0.0\n",
    "    discount = 0\n",
    "    grandTotal = 0\n",
    "    \n",
    "    def __init__(self, price, discount = 0):\n",
    "        print (\"init called \", price, discount)\n",
    "        self.price = price\n",
    "        self.discount = discount\n",
    "        \n",
    "        \n",
    "    # self always first argument, represent instance of the class\n",
    "    # in C++/java//c# self is known as this\n",
    "    # method\n",
    "    def applyDiscount(self, p):\n",
    "        self.discount = self.price * p / 100.0\n",
    "        self.grandTotal = self.price - self.discount"
   ]
  },
  {
   "cell_type": "code",
   "execution_count": 8,
   "id": "66ce16b8-511f-4133-83eb-511b7f8b7574",
   "metadata": {},
   "outputs": [
    {
     "name": "stdout",
     "output_type": "stream",
     "text": [
      "init called  100 10\n",
      "100 10\n",
      "init called  200 20\n",
      "200 20\n",
      "<__main__.Product object at 0x7f9d2165d2b0>\n"
     ]
    }
   ],
   "source": [
    "# let us initialize the value while creating product\n",
    "\n",
    "product1 = Product(100, 10) # this calls __init__ function\n",
    "print(product1.price, product1.discount)\n",
    "\n",
    "product2 = Product(200, 20)\n",
    "print(product2.price, product2.discount)\n",
    "\n",
    "print(product1) # print memory address"
   ]
  },
  {
   "cell_type": "code",
   "execution_count": 11,
   "id": "1f535810-138d-469c-94ce-0ba2763f6048",
   "metadata": {},
   "outputs": [],
   "source": [
    "# initializer, a special method called __init__\n",
    "# similar to constructor in other lang\n",
    "\n",
    "# __str__ function, a string representation of object\n",
    "# __str__ called on print automatically\n",
    "class Product:\n",
    "    # attributes\n",
    "    price = 0.0\n",
    "    discount = 0\n",
    "    grandTotal = 0\n",
    "    \n",
    "    def __init__(self, price, discount = 0):\n",
    "        print (\"init called \", price, discount)\n",
    "        self.price = price\n",
    "        self.discount = discount\n",
    "        \n",
    "    # called when printing object    \n",
    "    # print shall call __str__\n",
    "    def __str__(self):\n",
    "        return \"Product (\" + str(self.price) + \",\" + str(self.discount) + \")\"\n",
    "        \n",
    "        \n",
    "    # self always first argument, represent instance of the class\n",
    "    # in C++/java//c# self is known as this\n",
    "    # method\n",
    "    def applyDiscount(self, p):\n",
    "        self.discount = self.price * p / 100.0\n",
    "        self.grandTotal = self.price - self.discount\n",
    "        \n",
    "\n"
   ]
  },
  {
   "cell_type": "code",
   "execution_count": 12,
   "id": "d685830b-9ac5-492d-8efc-b7c094ee689e",
   "metadata": {},
   "outputs": [
    {
     "name": "stdout",
     "output_type": "stream",
     "text": [
      "init called  100 10\n",
      "Product (100,10)\n"
     ]
    }
   ],
   "source": [
    "product1 = Product(100, 10)\n",
    "print(product1) # internally calls __str__ and print the returned value"
   ]
  },
  {
   "cell_type": "code",
   "execution_count": null,
   "id": "b83cb63f-b97e-482b-b23e-f2eb9b4a7cb9",
   "metadata": {},
   "outputs": [],
   "source": [
    "# DIY\n",
    "# Create a class Called Brand, which has two attributes , brand_id and brand_name\n",
    "\n",
    "# initialize them wiht __init__\n",
    "# implement __str__\n",
    "# print result \n",
    "# b1 = Brand(1, 'Apple')\n",
    "# print (b1) to print Brand (1, Apple)"
   ]
  }
 ],
 "metadata": {
  "kernelspec": {
   "display_name": "Python 3 (ipykernel)",
   "language": "python",
   "name": "python3"
  },
  "language_info": {
   "codemirror_mode": {
    "name": "ipython",
    "version": 3
   },
   "file_extension": ".py",
   "mimetype": "text/x-python",
   "name": "python",
   "nbconvert_exporter": "python",
   "pygments_lexer": "ipython3",
   "version": "3.8.12"
  }
 },
 "nbformat": 4,
 "nbformat_minor": 5
}
