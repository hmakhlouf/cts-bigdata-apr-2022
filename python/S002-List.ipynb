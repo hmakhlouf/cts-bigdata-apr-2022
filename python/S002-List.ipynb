{
 "cells": [
  {
   "cell_type": "code",
   "execution_count": 1,
   "id": "ec4fe4b6-9e2b-419b-a6d6-14f30ebff54d",
   "metadata": {},
   "outputs": [],
   "source": [
    "# list is data structure, \n",
    "# hold collection of items\n",
    "# [] to represent list\n",
    "\n",
    "# List items are mutable, insert/update/delete items any time\n",
    "stocks = ['INFY', 'APPL', 'TSLA']"
   ]
  },
  {
   "cell_type": "code",
   "execution_count": 2,
   "id": "57b5ab59-9870-4e67-9d7b-6a67884bb0ef",
   "metadata": {},
   "outputs": [
    {
     "name": "stdout",
     "output_type": "stream",
     "text": [
      "3\n"
     ]
    }
   ],
   "source": [
    "# to get length \n",
    "\n",
    "print (len(stocks))"
   ]
  },
  {
   "cell_type": "code",
   "execution_count": 3,
   "id": "1e1f08bd-def2-4074-a677-1d680dee7f76",
   "metadata": {},
   "outputs": [],
   "source": [
    "# append new element at end of the list\n",
    "stocks.append(\"MSFT\")"
   ]
  },
  {
   "cell_type": "code",
   "execution_count": 4,
   "id": "0dae3839-4dd9-4c8c-a1cd-375eec7fb40d",
   "metadata": {},
   "outputs": [
    {
     "name": "stdout",
     "output_type": "stream",
     "text": [
      "['INFY', 'APPL', 'TSLA', 'MSFT']\n"
     ]
    }
   ],
   "source": [
    "print(stocks)"
   ]
  },
  {
   "cell_type": "code",
   "execution_count": 5,
   "id": "e6f33b88-4d93-4b90-bca8-b0fc944b2fc0",
   "metadata": {},
   "outputs": [],
   "source": [
    "# insert element between, element index starting from 0\n",
    "stocks.insert(1, 'CTS')"
   ]
  },
  {
   "cell_type": "code",
   "execution_count": 6,
   "id": "3b31fcdb-ae9c-4d73-87e1-df0afafb3656",
   "metadata": {},
   "outputs": [
    {
     "name": "stdout",
     "output_type": "stream",
     "text": [
      "['INFY', 'CTS', 'APPL', 'TSLA', 'MSFT']\n"
     ]
    }
   ],
   "source": [
    "print(stocks)"
   ]
  },
  {
   "cell_type": "code",
   "execution_count": 7,
   "id": "fd718af9-89f4-41dd-901f-e3396e43eae5",
   "metadata": {},
   "outputs": [
    {
     "name": "stdout",
     "output_type": "stream",
     "text": [
      "['INFY', 'CTS', 'TSLA', 'MSFT']\n"
     ]
    }
   ],
   "source": [
    "# remove elements\n",
    "\n",
    "stocks.remove('APPL')\n",
    "print(stocks)"
   ]
  },
  {
   "cell_type": "code",
   "execution_count": 8,
   "id": "cf88053d-870e-464a-a9d7-5f3813cb6f80",
   "metadata": {},
   "outputs": [
    {
     "name": "stdout",
     "output_type": "stream",
     "text": [
      "INFY\n",
      "MSFT\n",
      "MSFT\n",
      "TSLA\n"
     ]
    }
   ],
   "source": [
    "# access list element, use index position starting from 0 upto len - 1\n",
    "# positive index , from left to right\n",
    "print(stocks[0])\n",
    "print(stocks[3]) \n",
    "# negative index, from right to left\n",
    "print(stocks[-1]) # -1 represent last element\n",
    "print (stocks[-2]) # TSLA last but one"
   ]
  },
  {
   "cell_type": "code",
   "execution_count": 9,
   "id": "8db1a9e8-a7cc-4273-8851-0c617d92ec10",
   "metadata": {},
   "outputs": [
    {
     "name": "stdout",
     "output_type": "stream",
     "text": [
      "['INFY', 'CTS', 'TSLA', 'MSFT']\n",
      "['TSLA', 'MSFT']\n",
      "['INFY', 'CTS']\n",
      "['INFY', 'CTS', 'TSLA']\n",
      "['CTS', 'TSLA']\n"
     ]
    }
   ],
   "source": [
    "# access list elements in range, : opeartor\n",
    "\n",
    "# upper bound is not given\n",
    "print (stocks[0:]) # picks element 0 to last element\n",
    "print (stocks[2:]) # picks 2 nd element onwards until last elemnet\n",
    "\n",
    "# lower bound is not given\n",
    "print(stocks[:2]) # picks element 0 to 2 - 1 (upper bound - 1)\n",
    "print(stocks[:-1]) # picks 0 to   upper bound -1 \n",
    "\n",
    "# 1 from left, -1 from right\n",
    "print(stocks[1:-1]) "
   ]
  },
  {
   "cell_type": "code",
   "execution_count": null,
   "id": "340556e7-b899-4910-a4c6-ce0a3568bca2",
   "metadata": {},
   "outputs": [],
   "source": []
  }
 ],
 "metadata": {
  "kernelspec": {
   "display_name": "Python 3 (ipykernel)",
   "language": "python",
   "name": "python3"
  },
  "language_info": {
   "codemirror_mode": {
    "name": "ipython",
    "version": 3
   },
   "file_extension": ".py",
   "mimetype": "text/x-python",
   "name": "python",
   "nbconvert_exporter": "python",
   "pygments_lexer": "ipython3",
   "version": "3.8.12"
  }
 },
 "nbformat": 4,
 "nbformat_minor": 5
}
