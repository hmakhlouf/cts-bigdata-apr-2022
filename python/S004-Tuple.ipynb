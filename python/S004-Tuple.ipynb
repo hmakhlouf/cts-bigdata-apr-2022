{
 "cells": [
  {
   "cell_type": "code",
   "execution_count": 1,
   "id": "03ebc2ee-b4ca-488f-b8da-4e3b395f61ea",
   "metadata": {},
   "outputs": [],
   "source": [
    "# Tuple - pair of elements\n",
    "# represent a fact, event, related information\n",
    "# like record\n",
    "# Tuple is immutable - once created, it cannot be changed\n",
    "# used a lot of in Spark, big data\n",
    "# tuple elements stored in index order\n",
    "stock1 = ('MSFT', 56, 54, 57)\n",
    "product = ('iPhone', 12, 1200)\n",
    "emp = ('Joe', 'Male', 35, 6000)"
   ]
  },
  {
   "cell_type": "code",
   "execution_count": 2,
   "id": "3c9f2394-afff-4c97-a2c8-67327d0e41f1",
   "metadata": {},
   "outputs": [
    {
     "name": "stdout",
     "output_type": "stream",
     "text": [
      "4 3\n"
     ]
    }
   ],
   "source": [
    "print(len(stock1), len(product))\n"
   ]
  },
  {
   "cell_type": "code",
   "execution_count": 3,
   "id": "4e7fbeab-cf9a-4511-b6e9-efd030adaafe",
   "metadata": {},
   "outputs": [
    {
     "name": "stdout",
     "output_type": "stream",
     "text": [
      "MSFT\n"
     ]
    }
   ],
   "source": [
    "# to access tuple element, use [] with index starting from 0, similar to list\n",
    "\n",
    "print (stock1[0]) # MSFT"
   ]
  },
  {
   "cell_type": "code",
   "execution_count": 4,
   "id": "f8f7ad4c-faa9-462b-b126-f64b5ba8d2ea",
   "metadata": {},
   "outputs": [
    {
     "name": "stdout",
     "output_type": "stream",
     "text": [
      "57\n"
     ]
    }
   ],
   "source": [
    "print (stock1[-1]) # Last item 57"
   ]
  },
  {
   "cell_type": "code",
   "execution_count": 5,
   "id": "9a2ea46b-da78-4996-adb9-02b92cb0abee",
   "metadata": {},
   "outputs": [
    {
     "name": "stdout",
     "output_type": "stream",
     "text": [
      "('Joe', 'Male')\n"
     ]
    }
   ],
   "source": [
    "# range lowerbound:upper bound\n",
    "\n",
    "print ( emp[0:2]) "
   ]
  },
  {
   "cell_type": "code",
   "execution_count": 6,
   "id": "2b8efc29-d123-4480-926f-404c1be54da2",
   "metadata": {},
   "outputs": [
    {
     "name": "stdout",
     "output_type": "stream",
     "text": [
      "(12, 1200)\n"
     ]
    }
   ],
   "source": [
    "print ( product[1:] )"
   ]
  },
  {
   "cell_type": "code",
   "execution_count": 7,
   "id": "02f84c2c-66ab-4fc5-98d4-c10f516fea19",
   "metadata": {},
   "outputs": [
    {
     "name": "stdout",
     "output_type": "stream",
     "text": [
      "MSFT 56 54 57\n"
     ]
    }
   ],
   "source": [
    "# unpacking tuple\n",
    "# symbol, close price, day low, day high\n",
    "# declaration = expression\n",
    "stock1 = ('MSFT', 56, 54, 57)\n",
    "# we use [], index number, which is hard to remember\n",
    "\n",
    "# assign the stock1 elements into python variable\n",
    "# note: left side is declation/definition, ( - unpackaing\n",
    "(symbol, close, low, high) = stock1\n",
    "\n",
    "print(symbol, close, low, high)\n",
    "\n",
    "\n",
    "# symbol = stock1[0]"
   ]
  },
  {
   "cell_type": "code",
   "execution_count": 9,
   "id": "6b17cae6-5d13-4527-afba-813466816e08",
   "metadata": {},
   "outputs": [
    {
     "data": {
      "text/plain": [
       "tuple"
      ]
     },
     "execution_count": 9,
     "metadata": {},
     "output_type": "execute_result"
    }
   ],
   "source": [
    "type(stock1)\n"
   ]
  },
  {
   "cell_type": "code",
   "execution_count": 12,
   "id": "ea4fa49e-a28b-409a-a3db-d44497c7779d",
   "metadata": {},
   "outputs": [
    {
     "name": "stdout",
     "output_type": "stream",
     "text": [
      "MSFT 56\n",
      "[54, 57, 100, 120] <class 'list'>\n"
     ]
    }
   ],
   "source": [
    "stock1 = ('MSFT', 56, 54, 57, 100,120)\n",
    "# Asterisk *\n",
    "# we want symbol, close price, and low and high or others to be assigned to another list\n",
    "# *lowhigh means rest of the elements in the tuple\n",
    "# lowhigh is list type - remaining items \n",
    "(symbol, close, *lowhigh) = stock1\n",
    "print (symbol, close)\n",
    "print (lowhigh, type(lowhigh))"
   ]
  },
  {
   "cell_type": "code",
   "execution_count": 13,
   "id": "53133b7e-5052-4cc6-b58c-95a49b871d1a",
   "metadata": {},
   "outputs": [
    {
     "name": "stdout",
     "output_type": "stream",
     "text": [
      "MSFT\n",
      "57\n",
      "[56, 54]\n"
     ]
    }
   ],
   "source": [
    "# unpacking \n",
    "stock1 = ('MSFT', 56, 54, 57)\n",
    "# r shall have close price, low price\n",
    "(symbol, *r, high) = stock1\n",
    "\n",
    "print(symbol)\n",
    "print(high)\n",
    "print(r)\n"
   ]
  },
  {
   "cell_type": "code",
   "execution_count": null,
   "id": "a903cd77-d816-47ba-86a9-8734aebdd9c9",
   "metadata": {},
   "outputs": [],
   "source": []
  }
 ],
 "metadata": {
  "kernelspec": {
   "display_name": "Python 3 (ipykernel)",
   "language": "python",
   "name": "python3"
  },
  "language_info": {
   "codemirror_mode": {
    "name": "ipython",
    "version": 3
   },
   "file_extension": ".py",
   "mimetype": "text/x-python",
   "name": "python",
   "nbconvert_exporter": "python",
   "pygments_lexer": "ipython3",
   "version": "3.8.12"
  }
 },
 "nbformat": 4,
 "nbformat_minor": 5
}
