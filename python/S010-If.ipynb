{
 "cells": [
  {
   "cell_type": "code",
   "execution_count": 2,
   "id": "41f4359b-b241-4a76-b3ac-dd1dd2d50fa9",
   "metadata": {},
   "outputs": [
    {
     "name": "stdout",
     "output_type": "stream",
     "text": [
      "Even Number\n"
     ]
    }
   ],
   "source": [
    "# conditional statement which can evaluate to True/False\n",
    "\n",
    "n = 10 # 11\n",
    "\n",
    "if n % 2 == 0:\n",
    "    # true part\n",
    "    print(\"Even Number\")\n",
    "else:\n",
    "    # else part, False\n",
    "    print (\"Odd Number\")\n"
   ]
  },
  {
   "cell_type": "code",
   "execution_count": 3,
   "id": "192f52b1-32a9-49b0-8f41-a11517a38e61",
   "metadata": {},
   "outputs": [
    {
     "name": "stdout",
     "output_type": "stream",
     "text": [
      "a is greater\n"
     ]
    }
   ],
   "source": [
    "# if else is statement, statement doesn't return any result\n",
    "# else if statement\n",
    "a = 50\n",
    "b = 40\n",
    "c = 30\n",
    "# greatest amoung\n",
    "\n",
    "if a > b and a  > c:\n",
    "    print (\"a is greater\")\n",
    "elif b > c:\n",
    "    print(\"b is greater\")\n",
    "else:\n",
    "    print(\"c is greater\")"
   ]
  },
  {
   "cell_type": "code",
   "execution_count": 5,
   "id": "99764d71-5e55-4eaa-90ab-84928d183f3c",
   "metadata": {},
   "outputs": [
    {
     "name": "stdout",
     "output_type": "stream",
     "text": [
      "Even\n"
     ]
    }
   ],
   "source": [
    "# if   expression or similar to ternary operator\n",
    "# if used as expression that return \"Even\" or \"Odd\"\n",
    "# if expression returns output\n",
    "# true part if condition else elsepart\n",
    "result = \"Even\" if 10 % 2 == 0 else \"Odd\"\n",
    "\n",
    "print(result)"
   ]
  },
  {
   "cell_type": "code",
   "execution_count": null,
   "id": "1479da37-7eff-4cc9-b4f7-c10517313fc9",
   "metadata": {},
   "outputs": [],
   "source": []
  }
 ],
 "metadata": {
  "kernelspec": {
   "display_name": "Python 3 (ipykernel)",
   "language": "python",
   "name": "python3"
  },
  "language_info": {
   "codemirror_mode": {
    "name": "ipython",
    "version": 3
   },
   "file_extension": ".py",
   "mimetype": "text/x-python",
   "name": "python",
   "nbconvert_exporter": "python",
   "pygments_lexer": "ipython3",
   "version": "3.8.12"
  }
 },
 "nbformat": 4,
 "nbformat_minor": 5
}
