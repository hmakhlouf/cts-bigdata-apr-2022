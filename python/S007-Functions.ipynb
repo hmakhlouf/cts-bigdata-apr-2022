{
 "cells": [
  {
   "cell_type": "code",
   "execution_count": 2,
   "id": "c6173f26-2211-4f14-bf91-a37abb85e509",
   "metadata": {},
   "outputs": [
    {
     "name": "stdout",
     "output_type": "stream",
     "text": [
      "good morning\n",
      "Happy Learning\n",
      "good morning\n",
      "Happy Learning\n"
     ]
    }
   ],
   "source": [
    "# functions are reusable code\n",
    "\n",
    "def greetings():\n",
    "    # function body\n",
    "    print(\"good morning\")\n",
    "    print (\"Happy Learning\")\n",
    "    \n",
    "# calling function, so function shall be executed    \n",
    "greetings() \n",
    "\n",
    "# calling function 2nd time\n",
    "greetings()"
   ]
  },
  {
   "cell_type": "code",
   "execution_count": 3,
   "id": "7d4da604-f80b-4847-9feb-a95d7fc27dd9",
   "metadata": {},
   "outputs": [
    {
     "name": "stdout",
     "output_type": "stream",
     "text": [
      "Hello  Jane !!\n",
      "Good Morning  Jane\n",
      "Hello  Joe !!\n",
      "Good Morning  Joe\n"
     ]
    }
   ],
   "source": [
    "# define a function, that accept 1 parameter\n",
    "\n",
    "def greet(name):\n",
    "    print (\"Hello \", name, \"!!\")\n",
    "    print (\"Good Morning \", name)\n",
    "    \n",
    "greet(\"Jane\")\n",
    "greet(\"Joe\")\n",
    "    "
   ]
  },
  {
   "cell_type": "code",
   "execution_count": 4,
   "id": "8b3ba6d2-9ba8-4bbc-b442-45f8177963d7",
   "metadata": {},
   "outputs": [
    {
     "name": "stdout",
     "output_type": "stream",
     "text": [
      "30\n"
     ]
    }
   ],
   "source": [
    "# a function that accept 2 parameters, return 1 result\n",
    "\n",
    "def add(a, b):\n",
    "    return a + b\n",
    "\n",
    "result = add(10, 20)\n",
    "print(result)"
   ]
  },
  {
   "cell_type": "code",
   "execution_count": 7,
   "id": "65a372bd-0192-4544-b4b2-8c6aded9d480",
   "metadata": {},
   "outputs": [
    {
     "name": "stdout",
     "output_type": "stream",
     "text": [
      "type <class 'tuple'>\n",
      "numbers ()\n",
      "0\n",
      "type <class 'tuple'>\n",
      "numbers (10,)\n",
      "10\n",
      "type <class 'tuple'>\n",
      "numbers (10, 20, 30, 40, 50)\n",
      "150\n"
     ]
    }
   ],
   "source": [
    "# variable number of arguments\n",
    "# the paramters can 0, 1 , or many\n",
    "# using *\n",
    "# sum of numbers\n",
    "\n",
    "def sum(*numbers):\n",
    "    print(\"type\", type(numbers))\n",
    "    print (\"numbers\", numbers)\n",
    "    s = 0\n",
    "    for n in numbers:\n",
    "        s += n\n",
    "        \n",
    "    return s\n",
    "           \n",
    "           \n",
    "print(sum()) # no params, result = 0\n",
    "print(sum(10)) # 1 param, result = 10\n",
    "print(sum(10, 20, 30, 40, 50))           # 5 params, result = 150"
   ]
  },
  {
   "cell_type": "code",
   "execution_count": 8,
   "id": "a8ecb461-3473-46fd-b32d-1e0be06e2111",
   "metadata": {},
   "outputs": [
    {
     "name": "stdout",
     "output_type": "stream",
     "text": [
      "Symbol  MSFT  Qty  100 Price  150\n",
      "Symbol  FB  Qty  50 Price  200\n",
      "Symbol  TSLA  Qty  20 Price  400\n"
     ]
    }
   ],
   "source": [
    "# keyword based arguments\n",
    "\n",
    "def placeOrder(symbol, qty, price):\n",
    "    print(\"Symbol \", symbol, \" Qty \", qty, \"Price \", price)\n",
    "    \n",
    "# typically arguments are passed from left to right\n",
    "\n",
    "placeOrder(\"MSFT\", 100, 150)\n",
    "\n",
    "# keyword\n",
    "placeOrder(symbol=\"FB\", qty = 50, price = 200)\n",
    "\n",
    "placeOrder(qty = 20, symbol='TSLA', price=400)"
   ]
  },
  {
   "cell_type": "code",
   "execution_count": 11,
   "id": "c3c2f2b4-4a65-4cb3-a48d-7fba52eb4365",
   "metadata": {},
   "outputs": [
    {
     "name": "stdout",
     "output_type": "stream",
     "text": [
      "Type  <class 'dict'>\n",
      "Arguments {'age': 5}\n",
      "Type  <class 'dict'>\n",
      "Arguments {'age': 5, 'gender': 'female', 'state': 'CO'}\n",
      "Type  <class 'dict'>\n",
      "Arguments {}\n"
     ]
    }
   ],
   "source": [
    "# dynamic keyword based arguments\n",
    "# **\n",
    "\n",
    "def show(**arguments):\n",
    "    print(\"Type \", type(arguments))\n",
    "    print(\"Arguments\", arguments)\n",
    "    \n",
    "show(age=5)\n",
    "show(age=5,gender='female', state='CO')\n",
    "show()"
   ]
  },
  {
   "cell_type": "code",
   "execution_count": 13,
   "id": "fcfa0363-6311-48f0-9d96-e49e65618150",
   "metadata": {},
   "outputs": [
    {
     "name": "stdout",
     "output_type": "stream",
     "text": [
      "a 10 b 20\n",
      "30\n",
      "a 10 b 20\n",
      "30\n",
      "a 10 b 20\n",
      "30\n",
      "a 10 b 20\n",
      "30\n"
     ]
    }
   ],
   "source": [
    "# default values for parameters\n",
    "def add(a = 0, b = 0):\n",
    "    print(\"a\", a, \"b\", b)\n",
    "    return a + b\n",
    "\n",
    "print(add()) # a = 0, b = 0\n",
    "print (add(10)) # a = 10, b = 0\n",
    "print (add(10, 20)) # a = 10, b = 20\n",
    "\n",
    "print (add(b = 20, a = 10)) #  a = 10, b = 20"
   ]
  },
  {
   "cell_type": "code",
   "execution_count": 16,
   "id": "a3363e38-55b4-4eb2-b704-95e3ca4828cd",
   "metadata": {},
   "outputs": [
    {
     "data": {
      "text/plain": [
       "30"
      ]
     },
     "execution_count": 16,
     "metadata": {},
     "output_type": "execute_result"
    }
   ],
   "source": []
  },
  {
   "cell_type": "code",
   "execution_count": null,
   "id": "e84a46fd-9b1f-4df9-8660-d89bc08a5578",
   "metadata": {},
   "outputs": [],
   "source": []
  }
 ],
 "metadata": {
  "kernelspec": {
   "display_name": "Python 3 (ipykernel)",
   "language": "python",
   "name": "python3"
  },
  "language_info": {
   "codemirror_mode": {
    "name": "ipython",
    "version": 3
   },
   "file_extension": ".py",
   "mimetype": "text/x-python",
   "name": "python",
   "nbconvert_exporter": "python",
   "pygments_lexer": "ipython3",
   "version": "3.8.12"
  }
 },
 "nbformat": 4,
 "nbformat_minor": 5
}
