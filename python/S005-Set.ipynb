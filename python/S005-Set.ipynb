{
 "cells": [
  {
   "cell_type": "code",
   "execution_count": 1,
   "id": "13f237c9-94f9-460d-adf1-ab1b017acc25",
   "metadata": {},
   "outputs": [
    {
     "name": "stdout",
     "output_type": "stream",
     "text": [
      "{'AAPL', 'MSFT', 'FB', 'TSLA'}\n"
     ]
    }
   ],
   "source": [
    "# set is a collection\n",
    "# unordered - doesn't preserve insert order\n",
    "# unindexed - we cann't access by index number like [0], 1 ,2..\n",
    "# { } to represent set\n",
    "# immutable, unchangable\n",
    "# duplicates not allowed\n",
    "stocks = {\"MSFT\", \"TSLA\", \"AAPL\", \"FB\", 'TSLA', 'FB'}\n",
    "\n",
    "print(stocks)"
   ]
  },
  {
   "cell_type": "code",
   "execution_count": 2,
   "id": "79f5d212-2921-4462-af33-ea90a5ba4f62",
   "metadata": {},
   "outputs": [
    {
     "name": "stdout",
     "output_type": "stream",
     "text": [
      "4\n"
     ]
    }
   ],
   "source": [
    "print(len(stocks))\n"
   ]
  },
  {
   "cell_type": "code",
   "execution_count": 3,
   "id": "9a67c7f5-1a79-4e7c-9f08-ec6ebaeda977",
   "metadata": {},
   "outputs": [
    {
     "ename": "TypeError",
     "evalue": "'set' object is not subscriptable",
     "output_type": "error",
     "traceback": [
      "\u001b[0;31m---------------------------------------------------------------------------\u001b[0m",
      "\u001b[0;31mTypeError\u001b[0m                                 Traceback (most recent call last)",
      "Input \u001b[0;32mIn [3]\u001b[0m, in \u001b[0;36m<cell line: 2>\u001b[0;34m()\u001b[0m\n\u001b[1;32m      1\u001b[0m \u001b[38;5;66;03m# wont work, accessing by index cause error\u001b[39;00m\n\u001b[0;32m----> 2\u001b[0m \u001b[38;5;28mprint\u001b[39m (\u001b[43mstocks\u001b[49m\u001b[43m[\u001b[49m\u001b[38;5;241;43m0\u001b[39;49m\u001b[43m]\u001b[49m)\n",
      "\u001b[0;31mTypeError\u001b[0m: 'set' object is not subscriptable"
     ]
    }
   ],
   "source": [
    "# wont work, accessing by index cause error\n",
    "print (stocks[0])"
   ]
  },
  {
   "cell_type": "code",
   "execution_count": 4,
   "id": "f7a97cf0-1bdf-4fdb-88cb-77a9899f26c5",
   "metadata": {},
   "outputs": [
    {
     "name": "stdout",
     "output_type": "stream",
     "text": [
      "True\n"
     ]
    }
   ],
   "source": [
    "# set membership\n",
    "\n",
    "hasFB = 'FB' in stocks\n",
    "\n",
    "print(hasFB)"
   ]
  },
  {
   "cell_type": "code",
   "execution_count": 5,
   "id": "55db1fc9-7fe8-40fa-bb14-4e49f5618426",
   "metadata": {},
   "outputs": [
    {
     "data": {
      "text/plain": [
       "False"
      ]
     },
     "execution_count": 5,
     "metadata": {},
     "output_type": "execute_result"
    }
   ],
   "source": [
    "'FB' not in stocks"
   ]
  },
  {
   "cell_type": "code",
   "execution_count": null,
   "id": "40921a00-1a42-419b-83a6-3bf6667c1a98",
   "metadata": {},
   "outputs": [],
   "source": []
  }
 ],
 "metadata": {
  "kernelspec": {
   "display_name": "Python 3 (ipykernel)",
   "language": "python",
   "name": "python3"
  },
  "language_info": {
   "codemirror_mode": {
    "name": "ipython",
    "version": 3
   },
   "file_extension": ".py",
   "mimetype": "text/x-python",
   "name": "python",
   "nbconvert_exporter": "python",
   "pygments_lexer": "ipython3",
   "version": "3.8.12"
  }
 },
 "nbformat": 4,
 "nbformat_minor": 5
}
