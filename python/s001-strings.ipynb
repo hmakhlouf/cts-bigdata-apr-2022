{
 "cells": [
  {
   "cell_type": "code",
   "execution_count": 1,
   "id": "618ef878-f070-4fa6-a7f6-25c761708893",
   "metadata": {},
   "outputs": [],
   "source": [
    "# python commment\n",
    "# this area called cell\n",
    "\n",
    "name = \"Python\"\n",
    "framework = 'Spark'\n",
    "# multiline\n",
    "course = \"\"\"\n",
    "We learn\n",
    "Python\n",
    "Spark\n",
    "\"\"\"\n",
    "\n",
    "# to run the cell, Shift + Enter"
   ]
  },
  {
   "cell_type": "code",
   "execution_count": 2,
   "id": "fb6675b9-3d3a-420e-ab13-acc7ffc67cbb",
   "metadata": {},
   "outputs": [
    {
     "name": "stdout",
     "output_type": "stream",
     "text": [
      "Python\n",
      "Spark\n",
      "\n",
      "We learn\n",
      "Python\n",
      "Spark\n",
      "\n"
     ]
    }
   ],
   "source": [
    "print (name)\n",
    "print (framework)\n",
    "print(course)"
   ]
  },
  {
   "cell_type": "code",
   "execution_count": 3,
   "id": "4bb921b0-80c1-42ca-860d-fa03867efda2",
   "metadata": {},
   "outputs": [
    {
     "name": "stdout",
     "output_type": "stream",
     "text": [
      "    Python    \n"
     ]
    }
   ],
   "source": [
    "s = \"    Python    \"\n",
    "\n",
    "print(s)"
   ]
  },
  {
   "cell_type": "code",
   "execution_count": 4,
   "id": "190089f1-7f74-476f-b369-53780a67bc72",
   "metadata": {},
   "outputs": [
    {
     "name": "stdout",
     "output_type": "stream",
     "text": [
      "    PYTHON    \n"
     ]
    }
   ],
   "source": [
    "u = s.upper()\n",
    "print (u)"
   ]
  },
  {
   "cell_type": "code",
   "execution_count": 5,
   "id": "f5d69acf-1bb1-4e7d-b1e9-6ea697a1b1f2",
   "metadata": {},
   "outputs": [
    {
     "name": "stdout",
     "output_type": "stream",
     "text": [
      "    python    \n"
     ]
    }
   ],
   "source": [
    "l = s.lower()\n",
    "print (l)"
   ]
  },
  {
   "cell_type": "code",
   "execution_count": 6,
   "id": "bc209be5-8dbb-49b8-b4ef-ddd36d7be447",
   "metadata": {},
   "outputs": [
    {
     "name": "stdout",
     "output_type": "stream",
     "text": [
      "Python\n"
     ]
    }
   ],
   "source": [
    "t = s.strip()\n",
    "print (t)"
   ]
  },
  {
   "cell_type": "code",
   "execution_count": null,
   "id": "734e5905-9252-407b-8041-73dd39e3b210",
   "metadata": {},
   "outputs": [],
   "source": []
  }
 ],
 "metadata": {
  "kernelspec": {
   "display_name": "Python 3 (ipykernel)",
   "language": "python",
   "name": "python3"
  },
  "language_info": {
   "codemirror_mode": {
    "name": "ipython",
    "version": 3
   },
   "file_extension": ".py",
   "mimetype": "text/x-python",
   "name": "python",
   "nbconvert_exporter": "python",
   "pygments_lexer": "ipython3",
   "version": "3.8.12"
  }
 },
 "nbformat": 4,
 "nbformat_minor": 5
}
