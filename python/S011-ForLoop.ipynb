{
 "cells": [
  {
   "cell_type": "code",
   "execution_count": 1,
   "id": "7fdcb468-e9d4-4a35-bb52-31af7dd802e0",
   "metadata": {},
   "outputs": [
    {
     "name": "stdout",
     "output_type": "stream",
     "text": [
      "FB\n",
      "AAPL\n",
      "EMR\n",
      "TSLA\n"
     ]
    }
   ],
   "source": [
    "stocks = ['FB', 'AAPL', 'EMR', 'TSLA']\n",
    "\n",
    "for stock in stocks:\n",
    "    print(stock)"
   ]
  },
  {
   "cell_type": "code",
   "execution_count": 3,
   "id": "a8a26c13-d0c4-4746-8a48-618f7dc89700",
   "metadata": {},
   "outputs": [
    {
     "name": "stdin",
     "output_type": "stream",
     "text": [
      "enter n 10\n"
     ]
    },
    {
     "name": "stdout",
     "output_type": "stream",
     "text": [
      "n  10 <class 'str'>\n",
      "n  10 <class 'int'>\n"
     ]
    }
   ],
   "source": [
    "n = input(\"enter n\")\n",
    "print (\"n \", n, type(n))\n",
    "n = int(n) # Cast string to int\n",
    "print (\"n \", n, type(n))"
   ]
  },
  {
   "cell_type": "code",
   "execution_count": 4,
   "id": "83447bd8-f51f-4904-947c-a2f2c03e5093",
   "metadata": {},
   "outputs": [
    {
     "name": "stdout",
     "output_type": "stream",
     "text": [
      "FB\n",
      "AAPL\n",
      "EMR\n",
      "TSLA\n",
      "done processing stock\n"
     ]
    }
   ],
   "source": [
    "# for loop with else part\n",
    "# else is executed at end of for loop\n",
    "\n",
    "for s in stocks:\n",
    "    print(s)\n",
    "else:\n",
    "    print('done processing stock')"
   ]
  },
  {
   "cell_type": "code",
   "execution_count": 5,
   "id": "f027315c-ff21-4db0-ae0f-cdc3b7baeb9a",
   "metadata": {},
   "outputs": [
    {
     "name": "stdout",
     "output_type": "stream",
     "text": [
      "FB\n",
      "AAPL\n",
      "EMR\n"
     ]
    }
   ],
   "source": [
    "# break, doesn't call else block\n",
    "\n",
    "for stock in stocks:\n",
    "    print(stock)\n",
    "    if stock == 'EMR': \n",
    "        break # come out of for loop\n",
    "else:\n",
    "    print('done processing stock')"
   ]
  },
  {
   "cell_type": "code",
   "execution_count": null,
   "id": "3d221076-3273-4498-9a29-990b820bc58f",
   "metadata": {},
   "outputs": [],
   "source": []
  }
 ],
 "metadata": {
  "kernelspec": {
   "display_name": "Python 3 (ipykernel)",
   "language": "python",
   "name": "python3"
  },
  "language_info": {
   "codemirror_mode": {
    "name": "ipython",
    "version": 3
   },
   "file_extension": ".py",
   "mimetype": "text/x-python",
   "name": "python",
   "nbconvert_exporter": "python",
   "pygments_lexer": "ipython3",
   "version": "3.8.12"
  }
 },
 "nbformat": 4,
 "nbformat_minor": 5
}
