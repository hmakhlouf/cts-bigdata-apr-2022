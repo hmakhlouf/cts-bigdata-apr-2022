{
 "cells": [
  {
   "cell_type": "code",
   "execution_count": 1,
   "id": "e0745741-eca7-45cf-bbb7-2906ea8bd60d",
   "metadata": {},
   "outputs": [
    {
     "ename": "ZeroDivisionError",
     "evalue": "division by zero",
     "output_type": "error",
     "traceback": [
      "\u001b[0;31m---------------------------------------------------------------------------\u001b[0m",
      "\u001b[0;31mZeroDivisionError\u001b[0m                         Traceback (most recent call last)",
      "Input \u001b[0;32mIn [1]\u001b[0m, in \u001b[0;36m<cell line: 6>\u001b[0;34m()\u001b[0m\n\u001b[1;32m      1\u001b[0m \u001b[38;5;66;03m# exception handling\u001b[39;00m\n\u001b[1;32m      2\u001b[0m \u001b[38;5;66;03m# exceptions are errors, that may cause your program to terminate abnormally\u001b[39;00m\n\u001b[1;32m      3\u001b[0m \n\u001b[1;32m      4\u001b[0m \u001b[38;5;66;03m# try, except, else and finally\u001b[39;00m\n\u001b[0;32m----> 6\u001b[0m \u001b[38;5;241;43m42\u001b[39;49m\u001b[43m \u001b[49m\u001b[38;5;241;43m/\u001b[39;49m\u001b[43m \u001b[49m\u001b[38;5;241;43m0\u001b[39;49m\n\u001b[1;32m      8\u001b[0m \u001b[38;5;28mprint\u001b[39m(\u001b[38;5;124m\"\u001b[39m\u001b[38;5;124mthis will not be shown\u001b[39m\u001b[38;5;124m\"\u001b[39m)\n",
      "\u001b[0;31mZeroDivisionError\u001b[0m: division by zero"
     ]
    }
   ],
   "source": [
    "# exception handling\n",
    "# exceptions are errors, that may cause your program to terminate abnormally\n",
    "\n",
    "# try, except, else and finally\n",
    "\n",
    "42 / 0\n",
    "\n",
    "\n",
    "print(\"this will not be shown\")"
   ]
  },
  {
   "cell_type": "code",
   "execution_count": 2,
   "id": "47c372b9-15ee-4d3c-8cf2-170c32503f4d",
   "metadata": {},
   "outputs": [
    {
     "name": "stdout",
     "output_type": "stream",
     "text": [
      "There is exception, captured\n",
      "this will be shown\n"
     ]
    }
   ],
   "source": [
    "#exception handling, when error occurred, we capture exception \n",
    "# either we handle it , supress it, rethrow it\n",
    "#except block capture exceptions\n",
    "try:\n",
    "    42 / 0\n",
    "    print(\"this will not be shown\")\n",
    "except:\n",
    "    print(\"There is exception, captured\")\n",
    "    \n",
    "print(\"this will be shown\")"
   ]
  },
  {
   "cell_type": "code",
   "execution_count": 3,
   "id": "af7234ed-d0a9-41b9-87b1-42226b9cdcea",
   "metadata": {},
   "outputs": [
    {
     "name": "stdout",
     "output_type": "stream",
     "text": [
      "this will be shown 21.0\n"
     ]
    }
   ],
   "source": [
    "try:\n",
    "    n = 42 / 2 # no exception, mean except won't be called\n",
    "    print(\"this will be shown\", n)\n",
    "except:\n",
    "    print (\"this won't be shown\")"
   ]
  },
  {
   "cell_type": "code",
   "execution_count": 5,
   "id": "2550667f-c60d-4c25-814c-5a3822cccfe6",
   "metadata": {},
   "outputs": [
    {
     "name": "stdout",
     "output_type": "stream",
     "text": [
      "You cannot divide number by 0\n"
     ]
    }
   ],
   "source": [
    "# handle specific exception\n",
    "\n",
    "try:\n",
    "    #42 / x # raise NameError since x is not defined earlier\n",
    "    42 / 0 # raise ZeroDivisionError \n",
    "except ZeroDivisionError:\n",
    "    print(\"You cannot divide number by 0\")\n",
    "except NameError:\n",
    "    print (\"Looks like you haven't defined variable\")"
   ]
  },
  {
   "cell_type": "code",
   "execution_count": 7,
   "id": "64cc5b26-64c0-4c74-bdeb-50ea03a42996",
   "metadata": {},
   "outputs": [
    {
     "name": "stdout",
     "output_type": "stream",
     "text": [
      "exception caused\n",
      "at finally , cleanup\n"
     ]
    }
   ],
   "source": [
    "# finally is a block will be called on error, no error scenario\n",
    "# finally to close /release resources\n",
    "\n",
    "try:\n",
    "   42 / 0 # except shall be called, finally will be called\n",
    "   #42 / 2 # no exception, finally will be called\n",
    "except:\n",
    "    print('exception caused')\n",
    "finally:\n",
    "    print('at finally , cleanup')"
   ]
  },
  {
   "cell_type": "code",
   "execution_count": null,
   "id": "89e1d12a-9d8c-4c64-9c4a-f5da2a9306f9",
   "metadata": {},
   "outputs": [],
   "source": []
  }
 ],
 "metadata": {
  "kernelspec": {
   "display_name": "Python 3 (ipykernel)",
   "language": "python",
   "name": "python3"
  },
  "language_info": {
   "codemirror_mode": {
    "name": "ipython",
    "version": 3
   },
   "file_extension": ".py",
   "mimetype": "text/x-python",
   "name": "python",
   "nbconvert_exporter": "python",
   "pygments_lexer": "ipython3",
   "version": "3.8.12"
  }
 },
 "nbformat": 4,
 "nbformat_minor": 5
}
