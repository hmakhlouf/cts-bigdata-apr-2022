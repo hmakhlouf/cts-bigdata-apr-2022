{
 "cells": [
  {
   "cell_type": "code",
   "execution_count": 1,
   "id": "a84203f4-17ea-4603-9196-7b0510e19086",
   "metadata": {},
   "outputs": [],
   "source": [
    "# Dict - Key and Value\n",
    "# Key should be unique, Value can be anything\n",
    "# {} to define dictionary or dict\n",
    "# mutable, we can add/remove/update items anytime\n",
    "# lookup\n",
    "countries = {\n",
    "    #key: value\n",
    "    \"IN\": \"India\",\n",
    "    \"USA\": \"United States of America\",\n",
    "    \"CA\": \"Canada\"\n",
    "}\n",
    "# Shift + Enter"
   ]
  },
  {
   "cell_type": "code",
   "execution_count": 2,
   "id": "5060b021-ba23-40c9-ad83-ef726a4ed653",
   "metadata": {},
   "outputs": [
    {
     "name": "stdout",
     "output_type": "stream",
     "text": [
      "United States of America\n"
     ]
    }
   ],
   "source": [
    "print(countries[\"USA\"])\n"
   ]
  },
  {
   "cell_type": "code",
   "execution_count": 3,
   "id": "25f74fcc-3d3a-4717-8aff-be816e5e664d",
   "metadata": {},
   "outputs": [
    {
     "name": "stdout",
     "output_type": "stream",
     "text": [
      "India\n"
     ]
    }
   ],
   "source": [
    "code = countries[\"IN\"]\n",
    "print(code)"
   ]
  },
  {
   "cell_type": "code",
   "execution_count": 4,
   "id": "ae21a5fd-c17e-4806-bdaa-21527be5ab0e",
   "metadata": {},
   "outputs": [
    {
     "name": "stdout",
     "output_type": "stream",
     "text": [
      "3\n"
     ]
    }
   ],
   "source": [
    "# length\n",
    "print (len(countries))"
   ]
  },
  {
   "cell_type": "code",
   "execution_count": 5,
   "id": "8aae2e35-0c2c-4ef0-b58d-6edd87240a26",
   "metadata": {},
   "outputs": [
    {
     "name": "stdout",
     "output_type": "stream",
     "text": [
      "<class 'dict'>\n"
     ]
    }
   ],
   "source": [
    "# type\n",
    "print (type(countries))"
   ]
  },
  {
   "cell_type": "code",
   "execution_count": 6,
   "id": "b13ff8b1-eb86-4fc7-b07b-196f129d445d",
   "metadata": {},
   "outputs": [
    {
     "name": "stdout",
     "output_type": "stream",
     "text": [
      "Canada\n"
     ]
    }
   ],
   "source": [
    "# get\n",
    "\n",
    "print (countries.get(\"CA\"))"
   ]
  },
  {
   "cell_type": "code",
   "execution_count": 7,
   "id": "e1150481-b973-4134-97ea-0dc80a2a2fc4",
   "metadata": {},
   "outputs": [
    {
     "data": {
      "text/plain": [
       "dict_keys(['IN', 'USA', 'CA'])"
      ]
     },
     "execution_count": 7,
     "metadata": {},
     "output_type": "execute_result"
    }
   ],
   "source": [
    "# to get all keys\n",
    "countries.keys()"
   ]
  },
  {
   "cell_type": "code",
   "execution_count": 8,
   "id": "fa75da62-9957-4b67-b7e3-f0f36989a426",
   "metadata": {},
   "outputs": [
    {
     "data": {
      "text/plain": [
       "dict_items([('IN', 'India'), ('USA', 'United States of America'), ('CA', 'Canada')])"
      ]
     },
     "execution_count": 8,
     "metadata": {},
     "output_type": "execute_result"
    }
   ],
   "source": [
    "# items, get all items with key, value tuple\n",
    "countries.items()"
   ]
  },
  {
   "cell_type": "code",
   "execution_count": 9,
   "id": "7aa1106f-b919-4b66-838e-61c7934ff24b",
   "metadata": {},
   "outputs": [
    {
     "name": "stdout",
     "output_type": "stream",
     "text": [
      "{'IN': 'India', 'USA': 'United States of America', 'CA': 'Canada', 'AU': 'Aus'}\n",
      "{'IN': 'India', 'USA': 'United States of America', 'CA': 'Canada', 'AU': 'Australia'}\n"
     ]
    }
   ],
   "source": [
    "# add new entry\n",
    "# modify existing data\n",
    "\n",
    "countries[\"AU\"] = \"Aus\" # add new entry\n",
    "print(countries)\n",
    "# modify the value\n",
    "countries[\"AU\"] = \"Australia\"\n",
    "print(countries)"
   ]
  },
  {
   "cell_type": "code",
   "execution_count": 10,
   "id": "a80198bb-2ffa-4f98-9b82-082af78029ea",
   "metadata": {},
   "outputs": [
    {
     "name": "stdout",
     "output_type": "stream",
     "text": [
      "dict_values(['India', 'United States of America', 'Canada', 'Australia'])\n"
     ]
    }
   ],
   "source": [
    "# get all values\n",
    "print(countries.values())"
   ]
  },
  {
   "cell_type": "code",
   "execution_count": 11,
   "id": "28a5ce01-1acb-429d-af24-a763e2c8a24e",
   "metadata": {},
   "outputs": [
    {
     "name": "stdout",
     "output_type": "stream",
     "text": [
      "{'IN': 'India', 'USA': 'United States of America', 'CA': 'Canada'}\n"
     ]
    }
   ],
   "source": [
    "# to remove item, popitem\n",
    "\n",
    "countries.pop(\"AU\")\n",
    "print(countries)"
   ]
  },
  {
   "cell_type": "code",
   "execution_count": 12,
   "id": "92977cb8-b9a5-43e6-a392-b906243dc680",
   "metadata": {},
   "outputs": [
    {
     "name": "stdout",
     "output_type": "stream",
     "text": [
      "{'IN': 'India', 'USA': 'United States of America'}\n"
     ]
    }
   ],
   "source": [
    "# to remove item using del keyword\n",
    "del countries['CA']\n",
    "\n",
    "print(countries)"
   ]
  },
  {
   "cell_type": "code",
   "execution_count": 13,
   "id": "3ff9cd74-a676-404a-8b6f-f91822f9c117",
   "metadata": {},
   "outputs": [
    {
     "name": "stdout",
     "output_type": "stream",
     "text": [
      "{}\n"
     ]
    }
   ],
   "source": [
    "# to remove all entries\n",
    "\n",
    "countries.clear()\n",
    "print(countries)"
   ]
  },
  {
   "cell_type": "code",
   "execution_count": null,
   "id": "f6faf65d-942e-488f-ad2f-b13b431cb560",
   "metadata": {},
   "outputs": [],
   "source": []
  }
 ],
 "metadata": {
  "kernelspec": {
   "display_name": "Python 3 (ipykernel)",
   "language": "python",
   "name": "python3"
  },
  "language_info": {
   "codemirror_mode": {
    "name": "ipython",
    "version": 3
   },
   "file_extension": ".py",
   "mimetype": "text/x-python",
   "name": "python",
   "nbconvert_exporter": "python",
   "pygments_lexer": "ipython3",
   "version": "3.8.12"
  }
 },
 "nbformat": 4,
 "nbformat_minor": 5
}
