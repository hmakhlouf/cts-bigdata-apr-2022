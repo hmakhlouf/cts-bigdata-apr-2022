{
 "cells": [
  {
   "cell_type": "code",
   "execution_count": 1,
   "id": "978778de-8a83-47d4-bc02-72a04d2738c8",
   "metadata": {},
   "outputs": [],
   "source": [
    "# python has a lot of packages\n",
    "# located in PYPI index site\n",
    "# installation can be done using pip install\n",
    "\n",
    "\n",
    "# simple json is a library for parsing json file/content\n",
    "\n",
    "# on Linux terminal [create new one]\n",
    "# run below command\n",
    "\n",
    "# pip install simplejson"
   ]
  },
  {
   "cell_type": "code",
   "execution_count": 3,
   "id": "f845624b-33fe-40a3-83eb-68c967fa4cf0",
   "metadata": {},
   "outputs": [],
   "source": [
    "import simplejson"
   ]
  },
  {
   "cell_type": "code",
   "execution_count": null,
   "id": "ef1b4622-c041-49b8-ad91-1de23f19ce40",
   "metadata": {},
   "outputs": [],
   "source": []
  }
 ],
 "metadata": {
  "kernelspec": {
   "display_name": "Python 3 (ipykernel)",
   "language": "python",
   "name": "python3"
  },
  "language_info": {
   "codemirror_mode": {
    "name": "ipython",
    "version": 3
   },
   "file_extension": ".py",
   "mimetype": "text/x-python",
   "name": "python",
   "nbconvert_exporter": "python",
   "pygments_lexer": "ipython3",
   "version": "3.8.12"
  }
 },
 "nbformat": 4,
 "nbformat_minor": 5
}
