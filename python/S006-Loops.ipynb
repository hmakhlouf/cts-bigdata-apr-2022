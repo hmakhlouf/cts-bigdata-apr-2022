{
 "cells": [
  {
   "cell_type": "code",
   "execution_count": 1,
   "id": "3ce23264-7ef5-4ec8-b6c3-55c80903f187",
   "metadata": {},
   "outputs": [
    {
     "name": "stdout",
     "output_type": "stream",
     "text": [
      "[1, 2, 3, 4, 5, 6, 7, 8, 9]\n",
      "range(1, 10)\n"
     ]
    }
   ],
   "source": [
    "r1 = [1,2,3,4,5,6,7,8,9]\n",
    "r2 = range(1, 10) \n",
    "\n",
    "print(r1)\n",
    "print(r2)"
   ]
  },
  {
   "cell_type": "code",
   "execution_count": 2,
   "id": "783725b1-f889-4c18-a241-aac0245ebc9c",
   "metadata": {},
   "outputs": [
    {
     "name": "stdout",
     "output_type": "stream",
     "text": [
      "1\n",
      "2\n",
      "3\n",
      "4\n",
      "5\n",
      "6\n",
      "7\n",
      "8\n",
      "9\n"
     ]
    }
   ],
   "source": [
    "# colon : is used for block statements\n",
    "# use INDENTATION [WHITE SPACE/TAB]\n",
    "for i in r1:\n",
    "    print(i)"
   ]
  },
  {
   "cell_type": "code",
   "execution_count": 3,
   "id": "c59ed119-e1b3-4e7a-ad5f-4399eb9ac5b8",
   "metadata": {},
   "outputs": [
    {
     "name": "stdout",
     "output_type": "stream",
     "text": [
      "1\n",
      "2\n",
      "3\n",
      "4\n",
      "5\n",
      "6\n",
      "7\n",
      "8\n",
      "9\n"
     ]
    }
   ],
   "source": [
    "for i in r2:\n",
    "    print(i)"
   ]
  },
  {
   "cell_type": "code",
   "execution_count": 5,
   "id": "b4fca6fa-30c8-4e26-8ba9-d68c98a64838",
   "metadata": {},
   "outputs": [
    {
     "name": "stdout",
     "output_type": "stream",
     "text": [
      "Sum 45\n",
      "Fact 362880\n",
      "Sum  45 \n",
      " Fact 362880\n"
     ]
    }
   ],
   "source": [
    "s = 0\n",
    "f = 1\n",
    "\n",
    "for i in r2:\n",
    "    s += i\n",
    "    f *= i\n",
    "    \n",
    "print(\"Sum\", s)\n",
    "print(\"Fact\", f)\n",
    "print (\"Sum \", s, \"\\n\", \"Fact\", f)"
   ]
  },
  {
   "cell_type": "code",
   "execution_count": 6,
   "id": "89d02cc3-856f-42ff-b50b-7cff3332272b",
   "metadata": {},
   "outputs": [
    {
     "name": "stdout",
     "output_type": "stream",
     "text": [
      "1\n",
      "3\n",
      "5\n",
      "7\n",
      "9\n"
     ]
    }
   ],
   "source": [
    "# continue\n",
    "# print only odd number\n",
    "for i in r2:\n",
    "    if i % 2 == 0:\n",
    "        continue # continue the for loop, won't execute below statements\n",
    "    print(i) # print only odd number\n"
   ]
  },
  {
   "cell_type": "code",
   "execution_count": 7,
   "id": "6c287f98-6799-4f1c-b170-e0a1305fff6d",
   "metadata": {},
   "outputs": [
    {
     "name": "stdout",
     "output_type": "stream",
     "text": [
      "2\n",
      "4\n",
      "6\n",
      "8\n"
     ]
    }
   ],
   "source": [
    "# DIY: print even numbers\n",
    "\n",
    "# continue\n",
    "# print only even number\n",
    "for i in r2:\n",
    "    if i % 2 == 1:\n",
    "        continue # continue the for loop, won't execute below statements\n",
    "    print(i) # print only even number\n"
   ]
  },
  {
   "cell_type": "code",
   "execution_count": 8,
   "id": "40df8f71-fd0d-4313-a89d-6eaced6efb4e",
   "metadata": {},
   "outputs": [
    {
     "name": "stdout",
     "output_type": "stream",
     "text": [
      "1\n",
      "2\n",
      "3\n",
      "4\n",
      "5\n"
     ]
    }
   ],
   "source": [
    "# break is to break the loop and exit\n",
    "\n",
    "for i in r2:\n",
    "    print (i)\n",
    "    if i >= 5:\n",
    "        break\n",
    "        \n",
    "        "
   ]
  },
  {
   "cell_type": "code",
   "execution_count": 9,
   "id": "1b3a5754-1372-434e-bacb-9f573df167c4",
   "metadata": {},
   "outputs": [
    {
     "name": "stdout",
     "output_type": "stream",
     "text": [
      "Fact 120\n",
      "Sum 15\n"
     ]
    }
   ],
   "source": [
    "i = 1\n",
    "n = 5\n",
    "f = 1\n",
    "s = 0\n",
    "\n",
    "while i <= 5:\n",
    "    f *= i\n",
    "    s += i\n",
    "    i += 1\n",
    "    \n",
    "print(\"Fact\", f)\n",
    "print(\"Sum\", s)"
   ]
  },
  {
   "cell_type": "code",
   "execution_count": null,
   "id": "b92ccf2f-64c6-496a-966c-a4ebfabc4ba0",
   "metadata": {},
   "outputs": [],
   "source": []
  }
 ],
 "metadata": {
  "kernelspec": {
   "display_name": "Python 3 (ipykernel)",
   "language": "python",
   "name": "python3"
  },
  "language_info": {
   "codemirror_mode": {
    "name": "ipython",
    "version": 3
   },
   "file_extension": ".py",
   "mimetype": "text/x-python",
   "name": "python",
   "nbconvert_exporter": "python",
   "pygments_lexer": "ipython3",
   "version": "3.8.12"
  }
 },
 "nbformat": 4,
 "nbformat_minor": 5
}
