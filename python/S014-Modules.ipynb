{
 "cells": [
  {
   "cell_type": "code",
   "execution_count": 1,
   "id": "b67840e8-1737-4e36-ae7a-4093cce28c61",
   "metadata": {},
   "outputs": [
    {
     "name": "stdout",
     "output_type": "stream",
     "text": [
      "models __init__ called\n"
     ]
    }
   ],
   "source": [
    "# in python, packages /namespace are called modules\n",
    "# each file is a module\n",
    "# we can use import statement to import the module\n",
    "\n",
    "# notice, the __init_ will be called\n",
    "# models is directory\n",
    "# product is product.py\n",
    "# Product is a class located in product.py\n",
    "from models.product import Product"
   ]
  },
  {
   "cell_type": "code",
   "execution_count": 2,
   "id": "448a8a6b-60cc-4ad9-a116-21101f72c5b4",
   "metadata": {},
   "outputs": [
    {
     "name": "stdout",
     "output_type": "stream",
     "text": [
      "Product created\n"
     ]
    }
   ],
   "source": [
    "p1 = Product()"
   ]
  },
  {
   "cell_type": "code",
   "execution_count": 3,
   "id": "b78524b0-7191-433c-98b9-d621a3fa2530",
   "metadata": {},
   "outputs": [
    {
     "ename": "ImportError",
     "evalue": "cannot import name 'Product' from 'models' (/home/ubuntu/workshop/python/models/__init__.py)",
     "output_type": "error",
     "traceback": [
      "\u001b[0;31m---------------------------------------------------------------------------\u001b[0m",
      "\u001b[0;31mImportError\u001b[0m                               Traceback (most recent call last)",
      "Input \u001b[0;32mIn [3]\u001b[0m, in \u001b[0;36m<cell line: 1>\u001b[0;34m()\u001b[0m\n\u001b[0;32m----> 1\u001b[0m \u001b[38;5;28;01mfrom\u001b[39;00m \u001b[38;5;21;01mmodels\u001b[39;00m \u001b[38;5;28;01mimport\u001b[39;00m Product\n",
      "\u001b[0;31mImportError\u001b[0m: cannot import name 'Product' from 'models' (/home/ubuntu/workshop/python/models/__init__.py)"
     ]
    }
   ],
   "source": [
    "from models import Product # fails"
   ]
  },
  {
   "cell_type": "code",
   "execution_count": 4,
   "id": "c1453686-94d5-43bb-85dc-7f9c79edfcba",
   "metadata": {},
   "outputs": [],
   "source": [
    "# now within __init__.py file in models, import Product and try again \n",
    "# from product import Product\n"
   ]
  },
  {
   "cell_type": "code",
   "execution_count": 2,
   "id": "a3cb0e0a-1098-4844-bf0b-5908ff1a4ec2",
   "metadata": {},
   "outputs": [],
   "source": [
    "from models import Product # success, since __init__ file has Product already imported"
   ]
  },
  {
   "cell_type": "code",
   "execution_count": null,
   "id": "7be049e1-6d14-4efa-8f9c-0e56945ab7d7",
   "metadata": {},
   "outputs": [],
   "source": []
  }
 ],
 "metadata": {
  "kernelspec": {
   "display_name": "Python 3 (ipykernel)",
   "language": "python",
   "name": "python3"
  },
  "language_info": {
   "codemirror_mode": {
    "name": "ipython",
    "version": 3
   },
   "file_extension": ".py",
   "mimetype": "text/x-python",
   "name": "python",
   "nbconvert_exporter": "python",
   "pygments_lexer": "ipython3",
   "version": "3.8.12"
  }
 },
 "nbformat": 4,
 "nbformat_minor": 5
}
